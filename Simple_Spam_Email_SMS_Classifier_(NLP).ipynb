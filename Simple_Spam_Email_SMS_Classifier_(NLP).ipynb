{
  "nbformat": 4,
  "nbformat_minor": 0,
  "metadata": {
    "colab": {
      "provenance": []
    },
    "kernelspec": {
      "name": "python3",
      "display_name": "Python 3"
    },
    "language_info": {
      "name": "python"
    }
  },
  "cells": [
    {
      "cell_type": "code",
      "execution_count": 1,
      "metadata": {
        "colab": {
          "base_uri": "https://localhost:8080/"
        },
        "id": "iLIHQXrVUpBU",
        "outputId": "bf1e39eb-28de-4c32-f483-9f7560b602fb"
      },
      "outputs": [
        {
          "output_type": "stream",
          "name": "stdout",
          "text": [
            "--- Dataset Head ---\n",
            "  label                                            message\n",
            "0   ham  Go until jurong point, crazy.. Available only ...\n",
            "1   ham                      Ok lar... Joking wif u oni...\n",
            "2  spam  Free entry in 2 a wkly comp to win FA Cup fina...\n",
            "3   ham  U dun say so early hor... U c already then say...\n",
            "4   ham  Nah I don't think he goes to usf, he lives aro...\n",
            "\n",
            "Shape: (5572, 2)\n",
            "<class 'pandas.core.frame.DataFrame'>\n",
            "RangeIndex: 5572 entries, 0 to 5571\n",
            "Data columns (total 2 columns):\n",
            " #   Column   Non-Null Count  Dtype \n",
            "---  ------   --------------  ----- \n",
            " 0   label    5572 non-null   object\n",
            " 1   message  5572 non-null   object\n",
            "dtypes: object(2)\n",
            "memory usage: 87.2+ KB\n",
            "\n",
            "--- Missing Values ---\n",
            "label      0\n",
            "message    0\n",
            "dtype: int64\n",
            "\n",
            "--- Label Distribution ---\n",
            "label\n",
            "ham     4825\n",
            "spam     747\n",
            "Name: count, dtype: int64\n",
            "  label                                            message  label_num\n",
            "0   ham  Go until jurong point, crazy.. Available only ...          0\n",
            "1   ham                      Ok lar... Joking wif u oni...          0\n",
            "2  spam  Free entry in 2 a wkly comp to win FA Cup fina...          1\n",
            "3   ham  U dun say so early hor... U c already then say...          0\n",
            "4   ham  Nah I don't think he goes to usf, he lives aro...          0\n"
          ]
        }
      ],
      "source": [
        "import pandas as pd\n",
        "import numpy as np\n",
        "import matplotlib.pyplot as plt\n",
        "import seaborn as sns\n",
        "from sklearn.model_selection import train_test_split\n",
        "from sklearn.feature_extraction.text import TfidfVectorizer\n",
        "from sklearn.naive_bayes import MultinomialNB\n",
        "from sklearn.linear_model import LogisticRegression # Alternative model\n",
        "from sklearn.metrics import accuracy_score, confusion_matrix, classification_report, precision_score, recall_score, f1_score\n",
        "\n",
        "# Load the dataset\n",
        "# The dataset often has encoding issues and unnecessary columns, let's handle that.\n",
        "try:\n",
        "    df = pd.read_csv('spam.csv', encoding='latin1')\n",
        "except FileNotFoundError:\n",
        "    print(\"Error: spam.csv not found. Please download it and place it in the project directory.\")\n",
        "    exit()\n",
        "\n",
        "# Drop unnecessary columns and rename the main ones\n",
        "df = df.drop(columns=['Unnamed: 2', 'Unnamed: 3', 'Unnamed: 4'], errors='ignore') # 'errors=ignore' in case they don't exist\n",
        "df.rename(columns={'v1': 'label', 'v2': 'message'}, inplace=True)\n",
        "\n",
        "print(\"--- Dataset Head ---\")\n",
        "print(df.head())\n",
        "print(f\"\\nShape: {df.shape}\")\n",
        "df.info()\n",
        "\n",
        "print(\"\\n--- Missing Values ---\")\n",
        "print(df.isnull().sum())\n",
        "\n",
        "print(\"\\n--- Label Distribution ---\")\n",
        "print(df['label'].value_counts())\n",
        "\n",
        "# Convert labels to numerical (0 for ham, 1 for spam)\n",
        "df['label_num'] = df['label'].map({'ham': 0, 'spam': 1})\n",
        "print(df.head())"
      ]
    },
    {
      "cell_type": "code",
      "source": [
        "# Visualize label distribution\n",
        "plt.figure(figsize=(6,4))\n",
        "sns.countplot(x='label', data=df)\n",
        "plt.title('Distribution of Spam vs. Ham')\n",
        "plt.show() # or plt.savefig('label_distribution.png')\n",
        "\n",
        "# Add message length as a feature (often useful for spam detection)\n",
        "df['message_length'] = df['message'].apply(len)\n",
        "print(df.head())\n",
        "\n",
        "# Compare message length for spam vs. ham\n",
        "plt.figure(figsize=(10,6))\n",
        "sns.histplot(data=df, x='message_length', hue='label', multiple='stack', bins=50)\n",
        "plt.title('Message Length Distribution by Label')\n",
        "plt.show() # or plt.savefig('message_length_distribution.png')"
      ],
      "metadata": {
        "colab": {
          "base_uri": "https://localhost:8080/",
          "height": 1000
        },
        "id": "zM1tDGaMVT3-",
        "outputId": "21746a92-d72c-4cfd-8eb7-5f4b7dd8bd31"
      },
      "execution_count": 2,
      "outputs": [
        {
          "output_type": "display_data",
          "data": {
            "text/plain": [
              "<Figure size 600x400 with 1 Axes>"
            ],
            "image/png": "[encoded data removed]"
          },
          "metadata": {}
        },
        {
          "output_type": "stream",
          "name": "stdout",
          "text": [
            "  label                                            message  label_num  \\\n",
            "0   ham  Go until jurong point, crazy.. Available only ...          0   \n",
            "1   ham                      Ok lar... Joking wif u oni...          0   \n",
            "2  spam  Free entry in 2 a wkly comp to win FA Cup fina...          1   \n",
            "3   ham  U dun say so early hor... U c already then say...          0   \n",
            "4   ham  Nah I don't think he goes to usf, he lives aro...          0   \n",
            "\n",
            "   message_length  \n",
            "0             111  \n",
            "1              29  \n",
            "2             155  \n",
            "3              49  \n",
            "4              61  \n"
          ]
        },
        {
          "output_type": "display_data",
          "data": {
            "text/plain": [
              "<Figure size 1000x600 with 1 Axes>"
            ],
            "image/png": "[encoded data removed]"
          },
          "metadata": {}
        }
      ]
    },
    {
      "cell_type": "code",
      "source": [
        "# Convert messages to lowercase\n",
        "df['processed_message'] = df['message'].str.lower()\n",
        "\n",
        "# (Optional: More advanced preprocessing using NLTK - can be added later)\n",
        "# import nltk\n",
        "# from nltk.corpus import stopwords\n",
        "# from nltk.stem import PorterStemmer\n",
        "# nltk.download('stopwords', quiet=True)\n",
        "# nltk.download('punkt', quiet=True)\n",
        "#\n",
        "# stop_words = set(stopwords.words('english'))\n",
        "# stemmer = PorterStemmer()\n",
        "#\n",
        "# def preprocess_text_advanced(text):\n",
        "#     words = nltk.word_tokenize(text)\n",
        "#     words = [word for word in words if word.isalpha()] # Remove punctuation and numbers\n",
        "#     words = [word for word in words if word not in stop_words]\n",
        "#     words = [stemmer.stem(word) for word in words]\n",
        "#     return \" \".join(words)\n",
        "#\n",
        "# df['processed_message_advanced'] = df['processed_message'].apply(preprocess_text_advanced)\n",
        "# print(df[['message', 'processed_message', 'processed_message_advanced']].head())\n",
        "# For now, we will use the simple lowercase version:\n",
        "# X_text = df['processed_message']\n",
        "\n",
        "X_text = df['processed_message'] # Our text features\n",
        "y = df['label_num']       # Our numerical labels"
      ],
      "metadata": {
        "id": "MnKoZGzqVVRd"
      },
      "execution_count": 3,
      "outputs": []
    },
    {
      "cell_type": "code",
      "source": [
        "X_train_text, X_test_text, y_train, y_test = train_test_split(X_text, y, test_size=0.25, random_state=42, stratify=y)\n",
        "\n",
        "print(f\"Training set size: {len(X_train_text)}\")\n",
        "print(f\"Test set size: {len(X_test_text)}\")"
      ],
      "metadata": {
        "colab": {
          "base_uri": "https://localhost:8080/"
        },
        "id": "5KNItJeOVe3O",
        "outputId": "80ed5c00-5ccf-4125-ac45-751d2f0bd901"
      },
      "execution_count": 4,
      "outputs": [
        {
          "output_type": "stream",
          "name": "stdout",
          "text": [
            "Training set size: 4179\n",
            "Test set size: 1393\n"
          ]
        }
      ]
    },
    {
      "cell_type": "code",
      "source": [
        "tfidf_vectorizer = TfidfVectorizer(stop_words='english', max_df=0.9, min_df=2) # Experiment with parameters\n",
        "\n",
        "# Fit the vectorizer on the training data and transform training data\n",
        "X_train_tfidf = tfidf_vectorizer.fit_transform(X_train_text)\n",
        "\n",
        "# Transform the test data using the already fitted vectorizer\n",
        "X_test_tfidf = tfidf_vectorizer.transform(X_test_text)\n",
        "\n",
        "print(f\"\\nShape of TF-IDF matrix for training data: {X_train_tfidf.shape}\")\n",
        "print(f\"Shape of TF-IDF matrix for test data: {X_test_tfidf.shape}\")\n",
        "# The second dimension is the size of your vocabulary (number of unique words/features)"
      ],
      "metadata": {
        "colab": {
          "base_uri": "https://localhost:8080/"
        },
        "id": "Ujpv3CxPVg-g",
        "outputId": "1ae9e7cd-1265-4c81-8095-0079c1861be9"
      },
      "execution_count": 5,
      "outputs": [
        {
          "output_type": "stream",
          "name": "stdout",
          "text": [
            "\n",
            "Shape of TF-IDF matrix for training data: (4179, 3267)\n",
            "Shape of TF-IDF matrix for test data: (1393, 3267)\n"
          ]
        }
      ]
    },
    {
      "cell_type": "code",
      "source": [
        "# --- Multinomial Naive Bayes ---\n",
        "nb_classifier = MultinomialNB(alpha=1.0) # alpha is the smoothing parameter\n",
        "nb_classifier.fit(X_train_tfidf, y_train)\n",
        "\n",
        "# Make predictions on the test set\n",
        "y_pred_nb = nb_classifier.predict(X_test_tfidf)\n",
        "\n",
        "# --- (Optional) Logistic Regression ---\n",
        "# lr_classifier = LogisticRegression(solver='liblinear', random_state=42)\n",
        "# lr_classifier.fit(X_train_tfidf, y_train)\n",
        "# y_pred_lr = lr_classifier.predict(X_test_tfidf)"
      ],
      "metadata": {
        "id": "cBfMi0PCVjGn"
      },
      "execution_count": 6,
      "outputs": []
    },
    {
      "cell_type": "code",
      "source": [
        "def evaluate_model(y_true, y_pred, model_name=\"Model\"):\n",
        "    print(f\"\\n--- {model_name} Performance ---\")\n",
        "    print(f\"Accuracy: {accuracy_score(y_true, y_pred):.4f}\")\n",
        "    print(f\"Precision (Spam): {precision_score(y_true, y_pred, pos_label=1):.4f}\") # Assuming 1 is spam\n",
        "    print(f\"Recall (Spam): {recall_score(y_true, y_pred, pos_label=1):.4f}\")\n",
        "    print(f\"F1-Score (Spam): {f1_score(y_true, y_pred, pos_label=1):.4f}\")\n",
        "    print(\"\\nConfusion Matrix:\\n\", confusion_matrix(y_true, y_pred))\n",
        "    print(\"\\nClassification Report:\\n\", classification_report(y_true, y_pred, target_names=['ham', 'spam']))\n",
        "\n",
        "# Evaluate Naive Bayes\n",
        "evaluate_model(y_test, y_pred_nb, \"Multinomial Naive Bayes\")\n",
        "\n",
        "# Evaluate Logistic Regression (if trained)\n",
        "# evaluate_model(y_test, y_pred_lr, \"Logistic Regression\")"
      ],
      "metadata": {
        "colab": {
          "base_uri": "https://localhost:8080/"
        },
        "id": "6_SA0jw0Vlke",
        "outputId": "df4c0009-5d87-4e28-f9b5-f913cce51171"
      },
      "execution_count": 7,
      "outputs": [
        {
          "output_type": "stream",
          "name": "stdout",
          "text": [
            "\n",
            "--- Multinomial Naive Bayes Performance ---\n",
            "Accuracy: 0.9742\n",
            "Precision (Spam): 0.9935\n",
            "Recall (Spam): 0.8128\n",
            "F1-Score (Spam): 0.8941\n",
            "\n",
            "Confusion Matrix:\n",
            " [[1205    1]\n",
            " [  35  152]]\n",
            "\n",
            "Classification Report:\n",
            "               precision    recall  f1-score   support\n",
            "\n",
            "         ham       0.97      1.00      0.99      1206\n",
            "        spam       0.99      0.81      0.89       187\n",
            "\n",
            "    accuracy                           0.97      1393\n",
            "   macro avg       0.98      0.91      0.94      1393\n",
            "weighted avg       0.97      0.97      0.97      1393\n",
            "\n"
          ]
        }
      ]
    },
    {
      "cell_type": "code",
      "source": [
        "def predict_new_message(message, vectorizer, model):\n",
        "    processed_message = message.lower() # Same preprocessing as training\n",
        "    # If using advanced preprocessing, apply it here:\n",
        "    # processed_message = preprocess_text_advanced(processed_message)\n",
        "    message_tfidf = vectorizer.transform([processed_message])\n",
        "    prediction = model.predict(message_tfidf)\n",
        "    probability = model.predict_proba(message_tfidf)\n",
        "    return \"spam\" if prediction[0] == 1 else \"ham\", probability[0]\n",
        "\n",
        "# Example new messages\n",
        "new_message_1 = \"Congratulations! You've won a $1000 Walmart gift card. Go to http://example.com to claim now.\"\n",
        "new_message_2 = \"Hey, are you free for a meeting tomorrow at 2 PM?\"\n",
        "\n",
        "pred_1, prob_1 = predict_new_message(new_message_1, tfidf_vectorizer, nb_classifier)\n",
        "print(f\"\\nMessage: '{new_message_1}' -> Prediction: {pred_1}, Probabilities (ham, spam): {prob_1}\")\n",
        "\n",
        "pred_2, prob_2 = predict_new_message(new_message_2, tfidf_vectorizer, nb_classifier)\n",
        "print(f\"Message: '{new_message_2}' -> Prediction: {pred_2}, Probabilities (ham, spam): {prob_2}\")"
      ],
      "metadata": {
        "colab": {
          "base_uri": "https://localhost:8080/"
        },
        "id": "-3AuXEZ6VnfH",
        "outputId": "628234d5-6c9b-4d7f-e4e7-95c11e6c2a08"
      },
      "execution_count": 8,
      "outputs": [
        {
          "output_type": "stream",
          "name": "stdout",
          "text": [
            "\n",
            "Message: 'Congratulations! You've won a $1000 Walmart gift card. Go to http://example.com to claim now.' -> Prediction: spam, Probabilities (ham, spam): [0.08724772 0.91275228]\n",
            "Message: 'Hey, are you free for a meeting tomorrow at 2 PM?' -> Prediction: ham, Probabilities (ham, spam): [0.97735713 0.02264287]\n"
          ]
        }
      ]
    }
  ]
}